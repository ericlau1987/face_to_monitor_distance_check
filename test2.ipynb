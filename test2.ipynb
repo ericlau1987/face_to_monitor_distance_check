{
 "cells": [
  {
   "cell_type": "code",
   "execution_count": 264,
   "metadata": {},
   "outputs": [],
   "source": [
    "import pandas as pd\n",
    "import os\n",
    "import matplotlib.pyplot as plt \n",
    "import matplotlib.animation as animation\n",
    "import random\n",
    "from itertools import count\n",
    "from matplotlib import style"
   ]
  },
  {
   "cell_type": "code",
   "execution_count": 267,
   "metadata": {},
   "outputs": [
    {
     "name": "stderr",
     "output_type": "stream",
     "text": [
      "/Users/liuyifu/opt/anaconda3/lib/python3.9/site-packages/matplotlib/animation.py:973: UserWarning: Animation was deleted without rendering anything. This is most likely unintended. To prevent deletion, assign the Animation to a variable that exists for as long as you need the Animation.\n",
      "  warnings.warn(\n"
     ]
    },
    {
     "data": {
      "text/plain": [
       "<Figure size 432x288 with 0 Axes>"
      ]
     },
     "metadata": {},
     "output_type": "display_data"
    }
   ],
   "source": [
    "style.use('fivethirtyeight')\n",
    "\n",
    "fig = plt.figure()\n",
    "# ax1 = fig.add_subplot(1,1,1)\n",
    "x_vals = []\n",
    "y_vals = []\n",
    "index = count()\n",
    "\n",
    "def animate(i):\n",
    "    x_vals.append(next(index))\n",
    "    y_vals.append(random.randint(0,5))\n",
    "    \n",
    "    plt.cla()\n",
    "    plt.plot(x_vals, y_vals)\n",
    "\n",
    "ani = animation.FuncAnimation(plt.gcf(), animate, interval=1000)\n",
    "plt.tight_layout()\n",
    "plt.show()"
   ]
  },
  {
   "cell_type": "code",
   "execution_count": null,
   "metadata": {},
   "outputs": [],
   "source": [
    "# style.use('fivethirtyeight')\n",
    "\n",
    "# fig = plt.figure()\n",
    "# # ax1 = fig.add_subplot(1,1,1)\n",
    "# x_vals = []\n",
    "# y_vals = []\n",
    "# index = count()\n",
    "\n",
    "# def animate(i):\n",
    "#     f = open('test.txt', 'r').read()\n",
    "#     lines = f.split('\\n')\n",
    "#     xs = []\n",
    "    \n",
    "#     plt.cla()\n",
    "#     plt.plot(x_vals, y_vals)\n",
    "\n",
    "# ani = animation.FuncAnimation(plt.gcf(), animate, interval=1000)\n",
    "# plt.tight_layout()\n",
    "# plt.show()"
   ]
  },
  {
   "cell_type": "code",
   "execution_count": 251,
   "metadata": {},
   "outputs": [
    {
     "data": {
      "image/png": "[encoded data removed]",
      "text/plain": [
       "<Figure size 432x288 with 1 Axes>"
      ]
     },
     "metadata": {},
     "output_type": "display_data"
    }
   ],
   "source": [
    "style.use('fivethirtyeight')\n",
    "\n",
    "fig = plt.figure()\n",
    "# ax1 = fig.add_subplot(1,1,1)\n",
    "x_vals = [0,1,2,3,4,5]\n",
    "y_vals = [0,1,2,3,4,5]\n",
    "\n",
    "\n",
    "\n",
    "plt.plot(x_vals, y_vals)\n",
    "plt.show()"
   ]
  },
  {
   "cell_type": "code",
   "execution_count": 270,
   "metadata": {},
   "outputs": [],
   "source": [
    "from sqlalchemy import create_engine\n",
    "import pymysql\n",
    "\n",
    "class upload_mysql():\n",
    "\n",
    "    def __init__(self, table_name) -> None:\n",
    "        \"\"\"\n",
    "        If mysql is not launched, run the following scripts:\n",
    "        mysql -u root\n",
    "        \"\"\"\n",
    "        self.sqlEngine = create_engine('mysql+pymysql://root:@127.0.0.1/face_to_monitor_distance', \\\n",
    "                        pool_recycle=3600)\n",
    "        self.dbConnection = self.sqlEngine.connect()\n",
    "\n",
    "        self.table_name = table_name\n",
    "        # self._table_existence = self._table_existence\n",
    "        if not self._table_existence():\n",
    "            sql_query = f\"\"\"\n",
    "            create table {self.table_name} (\n",
    "                image_name nvarchar(40),\n",
    "                date_time datetime,\n",
    "                distances decimal(19,4),\n",
    "                avg_distance decimal(19,4),\n",
    "                distance_limit float\n",
    "            )\n",
    "            \n",
    "            \"\"\"\n",
    "            self.dbConnection.execute(sql_query)\n",
    "        \n",
    "        else: pass\n",
    "\n",
    "\n",
    "    def _table_existence(self):\n",
    "\n",
    "        # cursor = self.dbConnection.execute()\n",
    "        sql_query = f\"\"\"\n",
    "                SELECT COUNT(*)\n",
    "                FROM information_schema.tables \n",
    "                WHERE table_schema = 'face_to_monitor_distance'\n",
    "                AND table_name=  '{self.table_name}'\n",
    "        \"\"\"\n",
    "\n",
    "        cursor = self.dbConnection.execute(sql_query)\n",
    "\n",
    "        row = cursor.fetchall()\n",
    "        \n",
    "\n",
    "        if not row:\n",
    "            return True\n",
    "\n",
    "        else: return False\n",
    "\n",
    "    def insert_table(self, input: list) -> None:\n",
    "        image_name, date_time, distances, avg_distance, distance_limit = input\n",
    "        sql_query = f\"\"\"\n",
    "            insert into {self.table_name} (image_name, date_time, distances, avg_distance, distance_limit)\n",
    "            values({image_name},{date_time},{round(distances,4)},{round(avg_distance,4)},{distance_limit})\n",
    "        \"\"\"\n",
    "\n",
    "        self.dbConnection.execute(sql_query)"
   ]
  },
  {
   "cell_type": "code",
   "execution_count": 271,
   "metadata": {},
   "outputs": [],
   "source": [
    "ml = upload_mysql('test1')"
   ]
  }
 ],
 "metadata": {
  "interpreter": {
   "hash": "f1e648b511f995978624ce57c81fec97ef276ceed8c20bc85d5834907df54f6d"
  },
  "kernelspec": {
   "display_name": "Python 3.9.7 64-bit (conda)",
   "language": "python",
   "name": "python3"
  },
  "language_info": {
   "codemirror_mode": {
    "name": "ipython",
    "version": 3
   },
   "file_extension": ".py",
   "mimetype": "text/x-python",
   "name": "python",
   "nbconvert_exporter": "python",
   "pygments_lexer": "ipython3",
   "version": "3.9.7"
  },
  "orig_nbformat": 4
 },
 "nbformat": 4,
 "nbformat_minor": 2
}
