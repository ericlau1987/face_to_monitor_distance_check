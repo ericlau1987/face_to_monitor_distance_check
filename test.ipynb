{
 "cells": [
  {
   "cell_type": "code",
   "execution_count": null,
   "metadata": {},
   "outputs": [],
   "source": [
    "import os\n",
    "os.chdir(path='/Users/liuyifu/github_projects/face_to_monitor_distance_check')"
   ]
  },
  {
   "cell_type": "code",
   "execution_count": 2,
   "metadata": {},
   "outputs": [],
   "source": [
    "import cv2\n",
    "\n",
    "# face_detector = cv2.CascadeClassifier('haarcascade_frontalface_default.xml')\n",
    "# ref_image = cv2.imread(\"sample_image.jpg\")"
   ]
  },
  {
   "cell_type": "code",
   "execution_count": null,
   "metadata": {},
   "outputs": [],
   "source": [
    "gray_image = cv2.cvtColor(ref_image, cv2.COLOR_BGR2GRAY)\n",
    "faces = face_detector.detectMultiScale(gray_image, 1.3, 5)\n"
   ]
  },
  {
   "cell_type": "code",
   "execution_count": 3,
   "metadata": {},
   "outputs": [],
   "source": [
    "cv2_base_dir = os.path.dirname(os.path.abspath(cv2.__file__))"
   ]
  },
  {
   "cell_type": "code",
   "execution_count": 4,
   "metadata": {},
   "outputs": [
    {
     "data": {
      "text/plain": [
       "'/Users/liuyifu/miniforge3/envs/opencv/lib/python3.8/site-packages'"
      ]
     },
     "execution_count": 4,
     "metadata": {},
     "output_type": "execute_result"
    }
   ],
   "source": [
    "cv2_base_dir"
   ]
  },
  {
   "cell_type": "code",
   "execution_count": 54,
   "metadata": {},
   "outputs": [
    {
     "name": "stdout",
     "output_type": "stream",
     "text": [
      "ref_image_face_width: 373\n"
     ]
    }
   ],
   "source": [
    "import cv2\n",
    " \n",
    "# distance from camera to object(face) measured\n",
    "# centimeter\n",
    "Known_distance = 30\n",
    " \n",
    " \n",
    "# width of face in the real world or Object Plane\n",
    "# centimeter\n",
    "Known_width = 13\n",
    " \n",
    "# Colors\n",
    "GREEN = (0, 255, 0)\n",
    "RED = (0, 0, 255)\n",
    "WHITE = (255, 255, 255)\n",
    "BLACK = (0, 0, 0)\n",
    " \n",
    "# defining the fonts\n",
    "fonts = cv2.FONT_HERSHEY_COMPLEX\n",
    " \n",
    "# face detector object\n",
    "face_detector = cv2.CascadeClassifier('./haar-cascade-files-master/haarcascade_frontalface_default.xml')\n",
    "\n",
    " \n",
    "# focal length finder function\n",
    "def Focal_Length_Finder(measured_distance, real_width, width_in_rf_image):\n",
    " \n",
    "    # finding the focal length\n",
    "    focal_length = (width_in_rf_image * measured_distance) / real_width\n",
    "    return focal_length\n",
    " \n",
    "# distance estimation function\n",
    "def Distance_finder(Focal_Length, real_face_width, face_width_in_frame):\n",
    " \n",
    "    distance = (real_face_width * Focal_Length)/face_width_in_frame\n",
    " \n",
    "    # return the distance\n",
    "    return distance\n",
    " \n",
    " \n",
    "def face_data(image):\n",
    " \n",
    "    face_width = 0  # making face width to zero\n",
    " \n",
    "    # converting color image ot gray scale image\n",
    "    gray_image = cv2.cvtColor(image, cv2.COLOR_BGR2GRAY)\n",
    " \n",
    "    # detecting face in the image\n",
    "    faces = face_detector.detectMultiScale(gray_image, 1.3, 5)\n",
    " \n",
    "    # looping through the faces detect in the image\n",
    "    # getting coordinates x, y , width and height\n",
    "    for (x, y, h, w) in faces:\n",
    " \n",
    "        # draw the rectangle on the face\n",
    "        cv2.rectangle(image, (x, y), (x+w, y+h), GREEN, 2)\n",
    " \n",
    "        # getting face width in the pixels\n",
    "        face_width = w\n",
    " \n",
    "    # return the face width in pixel\n",
    "    return face_width\n",
    " \n",
    " \n",
    "# reading reference_image from directory\n",
    "ref_image = cv2.imread(\"sample_image.jpg\")\n",
    "\n",
    "# find the face width(pixels) in the reference_image\n",
    "ref_image_face_width = face_data(ref_image)\n",
    "print(f'ref_image_face_width: {ref_image_face_width}')"
   ]
  },
  {
   "cell_type": "code",
   "execution_count": 36,
   "metadata": {},
   "outputs": [
    {
     "ename": "ValueError",
     "evalue": "too many values to unpack (expected 4)",
     "output_type": "error",
     "traceback": [
      "\u001b[0;31m---------------------------------------------------------------------------\u001b[0m",
      "\u001b[0;31mValueError\u001b[0m                                Traceback (most recent call last)",
      "\u001b[0;32m/var/folders/ll/01gdbc2n2d1f47wbbx616f4r0000gn/T/ipykernel_54110/493515494.py\u001b[0m in \u001b[0;36m<module>\u001b[0;34m\u001b[0m\n\u001b[0;32m----> 1\u001b[0;31m \u001b[0;32mfor\u001b[0m \u001b[0;34m(\u001b[0m\u001b[0mx\u001b[0m\u001b[0;34m,\u001b[0m \u001b[0my\u001b[0m\u001b[0;34m,\u001b[0m \u001b[0mh\u001b[0m\u001b[0;34m,\u001b[0m \u001b[0mw\u001b[0m\u001b[0;34m)\u001b[0m \u001b[0;32min\u001b[0m \u001b[0mref_image\u001b[0m\u001b[0;34m:\u001b[0m\u001b[0;34m\u001b[0m\u001b[0;34m\u001b[0m\u001b[0m\n\u001b[0m\u001b[1;32m      2\u001b[0m \u001b[0;34m\u001b[0m\u001b[0m\n\u001b[1;32m      3\u001b[0m     \u001b[0mprint\u001b[0m\u001b[0;34m(\u001b[0m\u001b[0;34mf'x: {x}; y: {y}; h: {h}; z: {z}'\u001b[0m\u001b[0;34m)\u001b[0m\u001b[0;34m\u001b[0m\u001b[0;34m\u001b[0m\u001b[0m\n",
      "\u001b[0;31mValueError\u001b[0m: too many values to unpack (expected 4)"
     ]
    }
   ],
   "source": [
    "for (x, y, h, w) in ref_image:\n",
    "\n",
    "    print(f'x: {x}; y: {y}; h: {h}; z: {z}')"
   ]
  }
 ],
 "metadata": {
  "interpreter": {
   "hash": "ab922fa5382519ea8b9aa3e1175d74dbeb6f08e5c942b8f5a630658ea4972463"
  },
  "kernelspec": {
   "display_name": "Python 3 (ipykernel)",
   "language": "python",
   "name": "python3"
  },
  "language_info": {
   "codemirror_mode": {
    "name": "ipython",
    "version": 3
   },
   "file_extension": ".py",
   "mimetype": "text/x-python",
   "name": "python",
   "nbconvert_exporter": "python",
   "pygments_lexer": "ipython3",
   "version": "3.8.6"
  }
 },
 "nbformat": 4,
 "nbformat_minor": 2
}
